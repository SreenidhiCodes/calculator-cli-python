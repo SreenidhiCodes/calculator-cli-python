{
  "nbformat": 4,
  "nbformat_minor": 0,
  "metadata": {
    "colab": {
      "provenance": [],
      "authorship_tag": "ABX9TyPiQPblhYjwrXcRwS9RK1tT",
      "include_colab_link": true
    },
    "kernelspec": {
      "name": "python3",
      "display_name": "Python 3"
    },
    "language_info": {
      "name": "python"
    }
  },
  "cells": [
    {
      "cell_type": "markdown",
      "metadata": {
        "id": "view-in-github",
        "colab_type": "text"
      },
      "source": [
        "<a href=\"https://colab.research.google.com/github/SreenidhiCodes/calculator-cli-python/blob/main/calculator.ipynb\" target=\"_parent\"><img src=\"https://colab.research.google.com/assets/colab-badge.svg\" alt=\"Open In Colab\"/></a>"
      ]
    },
    {
      "cell_type": "code",
      "source": [
        "def add(numbers):\n",
        "    return sum(numbers)\n",
        "\n",
        "def subtract(numbers):\n",
        "    result = numbers[0]\n",
        "    for num in numbers[1:]:\n",
        "        result -= num\n",
        "    return result\n",
        "\n",
        "def multiply(numbers):\n",
        "    result = 1\n",
        "    for num in numbers:\n",
        "        result *= num\n",
        "    return result\n",
        "\n",
        "def divide(numbers):\n",
        "    result = numbers[0]\n",
        "    for num in numbers[1:]:\n",
        "        if num == 0:\n",
        "            return \"Error! Division by zero.\"\n",
        "        result /= num\n",
        "    return result\n",
        "\n",
        "def get_numbers():\n",
        "    try:\n",
        "        count = int(input(\"How many numbers do you want to operate on? \"))\n",
        "        if count < 2:\n",
        "            print(\"Please enter at least two numbers.\")\n",
        "            return None\n",
        "        numbers = []\n",
        "        for i in range(count):\n",
        "            num = float(input(f\"Enter number {i+1}: \"))\n",
        "            numbers.append(num)\n",
        "        return numbers\n",
        "    except ValueError:\n",
        "        print(\"Invalid input. Please enter numeric values.\")\n",
        "        return None\n",
        "\n",
        "def main():\n",
        "    while True:\n",
        "        print(\"\\nSIMPLE CALCULATOR\")\n",
        "        print(\"1. Add\")\n",
        "        print(\"2. Subtract\")\n",
        "        print(\"3. Multiply\")\n",
        "        print(\"4. Divide\")\n",
        "        print(\"5. Exit\")\n",
        "\n",
        "        choice = input(\"Enter your choice (1-5): \")\n",
        "\n",
        "        if choice == '5':\n",
        "            print(\"Exiting calculator\")\n",
        "            break\n",
        "\n",
        "        if choice in ['1', '2', '3', '4']:\n",
        "            numbers = get_numbers()\n",
        "            if numbers is None:\n",
        "                continue\n",
        "\n",
        "            operations = {\n",
        "                '1': add,\n",
        "                '2': subtract,\n",
        "                '3': multiply,\n",
        "                '4': divide\n",
        "            }\n",
        "\n",
        "            result = operations[choice](numbers)\n",
        "            print(\"Result:\", result)\n",
        "        else:\n",
        "            print(\"Invalid choice. Please select a number from 1 to 5.\")\n",
        "\n",
        "if __name__ == \"__main__\":\n",
        "    main()\n"
      ],
      "metadata": {
        "colab": {
          "base_uri": "https://localhost:8080/"
        },
        "id": "BkJ9XiuBvhL2",
        "outputId": "072fd78c-7b0d-4fe9-e890-f5ba2cfa179d"
      },
      "execution_count": null,
      "outputs": [
        {
          "output_type": "stream",
          "name": "stdout",
          "text": [
            "\n",
            "SIMPLE CALCULATOR\n",
            "1. Add\n",
            "2. Subtract\n",
            "3. Multiply\n",
            "4. Divide\n",
            "5. Exit\n",
            "Enter your choice (1-5): 1\n",
            "How many numbers do you want to operate on? 4\n",
            "Enter number 1: 3\n",
            "Enter number 2: 42\n",
            "Enter number 3: 19\n",
            "Enter number 4: 60\n",
            "Result: 124.0\n",
            "\n",
            "SIMPLE CALCULATOR\n",
            "1. Add\n",
            "2. Subtract\n",
            "3. Multiply\n",
            "4. Divide\n",
            "5. Exit\n",
            "Enter your choice (1-5): 5\n",
            "Exiting calculator\n"
          ]
        }
      ]
    }
  ]
}